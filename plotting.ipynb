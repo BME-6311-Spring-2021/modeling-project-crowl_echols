{
 "cells": [
  {
   "cell_type": "code",
   "execution_count": 1,
   "metadata": {},
   "outputs": [],
   "source": [
    "import numpy as np\n",
    "import pandas as pd\n",
    "import matplotlib.pyplot as plt\n",
    "import seaborn as sns\n",
    "from scipy.integrate import simps\n",
    "from scipy.stats import ttest_ind\n",
    "\n"
   ]
  },
  {
   "cell_type": "code",
   "execution_count": 2,
   "metadata": {},
   "outputs": [],
   "source": [
    "exp1 = pd.read_csv('one_cell_experiments_ver5.csv', header = 16, index_col = 0)\n",
    "exp1_meta = exp1.iloc[0:5]\n",
    "#convert data into dictionary containing dataframes for each measurement\n",
    "exp1_meta = {}\n",
    "exp1_time = {}\n",
    "for i in range(5):\n",
    "    colName = exp1.columns[i]\n",
    "    #get indices for each run \n",
    "    indices = list(range(i,50,5))\n",
    "    exp1_meta[colName] = exp1.iloc[0:5,indices]\n",
    "    exp1_time[colName] = exp1.iloc[7:,indices].reset_index().drop('[reporter]',axis =1).astype(int)"
   ]
  },
  {
   "cell_type": "code",
   "execution_count": 3,
   "metadata": {},
   "outputs": [
    {
     "data": {
      "text/html": [
       "<div>\n",
       "<style scoped>\n",
       "    .dataframe tbody tr th:only-of-type {\n",
       "        vertical-align: middle;\n",
       "    }\n",
       "\n",
       "    .dataframe tbody tr th {\n",
       "        vertical-align: top;\n",
       "    }\n",
       "\n",
       "    .dataframe thead th {\n",
       "        text-align: right;\n",
       "    }\n",
       "</style>\n",
       "<table border=\"1\" class=\"dataframe\">\n",
       "  <thead>\n",
       "    <tr style=\"text-align: right;\">\n",
       "      <th></th>\n",
       "      <th>number-of-cells</th>\n",
       "      <th>count bacteria1</th>\n",
       "      <th>count bacteria2</th>\n",
       "      <th>count neutrophils</th>\n",
       "      <th>count macrophages</th>\n",
       "      <th>number-of-cells.1</th>\n",
       "      <th>count bacteria1.1</th>\n",
       "      <th>count bacteria2.1</th>\n",
       "      <th>count neutrophils.1</th>\n",
       "      <th>count macrophages.1</th>\n",
       "      <th>...</th>\n",
       "      <th>number-of-cells.8</th>\n",
       "      <th>count bacteria1.8</th>\n",
       "      <th>count bacteria2.8</th>\n",
       "      <th>count neutrophils.8</th>\n",
       "      <th>count macrophages.8</th>\n",
       "      <th>number-of-cells.9</th>\n",
       "      <th>count bacteria1.9</th>\n",
       "      <th>count bacteria2.9</th>\n",
       "      <th>count neutrophils.9</th>\n",
       "      <th>count macrophages.9</th>\n",
       "    </tr>\n",
       "    <tr>\n",
       "      <th>[reporter]</th>\n",
       "      <th></th>\n",
       "      <th></th>\n",
       "      <th></th>\n",
       "      <th></th>\n",
       "      <th></th>\n",
       "      <th></th>\n",
       "      <th></th>\n",
       "      <th></th>\n",
       "      <th></th>\n",
       "      <th></th>\n",
       "      <th></th>\n",
       "      <th></th>\n",
       "      <th></th>\n",
       "      <th></th>\n",
       "      <th></th>\n",
       "      <th></th>\n",
       "      <th></th>\n",
       "      <th></th>\n",
       "      <th></th>\n",
       "      <th></th>\n",
       "      <th></th>\n",
       "    </tr>\n",
       "  </thead>\n",
       "  <tbody>\n",
       "    <tr>\n",
       "      <th>[final]</th>\n",
       "      <td>0</td>\n",
       "      <td>0</td>\n",
       "      <td>0</td>\n",
       "      <td>0</td>\n",
       "      <td>0</td>\n",
       "      <td>0</td>\n",
       "      <td>0</td>\n",
       "      <td>0</td>\n",
       "      <td>0</td>\n",
       "      <td>0</td>\n",
       "      <td>...</td>\n",
       "      <td>0</td>\n",
       "      <td>0</td>\n",
       "      <td>0</td>\n",
       "      <td>0</td>\n",
       "      <td>0</td>\n",
       "      <td>0</td>\n",
       "      <td>0</td>\n",
       "      <td>0</td>\n",
       "      <td>0</td>\n",
       "      <td>0</td>\n",
       "    </tr>\n",
       "    <tr>\n",
       "      <th>[min]</th>\n",
       "      <td>0</td>\n",
       "      <td>0</td>\n",
       "      <td>0</td>\n",
       "      <td>0</td>\n",
       "      <td>0</td>\n",
       "      <td>0</td>\n",
       "      <td>0</td>\n",
       "      <td>0</td>\n",
       "      <td>0</td>\n",
       "      <td>0</td>\n",
       "      <td>...</td>\n",
       "      <td>0</td>\n",
       "      <td>0</td>\n",
       "      <td>0</td>\n",
       "      <td>0</td>\n",
       "      <td>0</td>\n",
       "      <td>0</td>\n",
       "      <td>0</td>\n",
       "      <td>0</td>\n",
       "      <td>0</td>\n",
       "      <td>0</td>\n",
       "    </tr>\n",
       "    <tr>\n",
       "      <th>[max]</th>\n",
       "      <td>709</td>\n",
       "      <td>0</td>\n",
       "      <td>709</td>\n",
       "      <td>465</td>\n",
       "      <td>316</td>\n",
       "      <td>724</td>\n",
       "      <td>0</td>\n",
       "      <td>724</td>\n",
       "      <td>462</td>\n",
       "      <td>299</td>\n",
       "      <td>...</td>\n",
       "      <td>692</td>\n",
       "      <td>0</td>\n",
       "      <td>692</td>\n",
       "      <td>448</td>\n",
       "      <td>327</td>\n",
       "      <td>744</td>\n",
       "      <td>0</td>\n",
       "      <td>744</td>\n",
       "      <td>464</td>\n",
       "      <td>295</td>\n",
       "    </tr>\n",
       "    <tr>\n",
       "      <th>[mean]</th>\n",
       "      <td>105.90547263681592</td>\n",
       "      <td>0</td>\n",
       "      <td>106.20398009950249</td>\n",
       "      <td>127.30845771144278</td>\n",
       "      <td>136.75124378109453</td>\n",
       "      <td>106.24378109452736</td>\n",
       "      <td>0</td>\n",
       "      <td>106.54228855721394</td>\n",
       "      <td>121.4726368159204</td>\n",
       "      <td>127.38308457711443</td>\n",
       "      <td>...</td>\n",
       "      <td>107</td>\n",
       "      <td>0</td>\n",
       "      <td>107.29850746268657</td>\n",
       "      <td>121.49751243781094</td>\n",
       "      <td>137.73134328358208</td>\n",
       "      <td>107.86069651741293</td>\n",
       "      <td>0</td>\n",
       "      <td>108.1592039800995</td>\n",
       "      <td>125.09452736318408</td>\n",
       "      <td>124.88059701492537</td>\n",
       "    </tr>\n",
       "    <tr>\n",
       "      <th>[steps]</th>\n",
       "      <td>200</td>\n",
       "      <td>200</td>\n",
       "      <td>200</td>\n",
       "      <td>200</td>\n",
       "      <td>200</td>\n",
       "      <td>200</td>\n",
       "      <td>200</td>\n",
       "      <td>200</td>\n",
       "      <td>200</td>\n",
       "      <td>200</td>\n",
       "      <td>...</td>\n",
       "      <td>200</td>\n",
       "      <td>200</td>\n",
       "      <td>200</td>\n",
       "      <td>200</td>\n",
       "      <td>200</td>\n",
       "      <td>200</td>\n",
       "      <td>200</td>\n",
       "      <td>200</td>\n",
       "      <td>200</td>\n",
       "      <td>200</td>\n",
       "    </tr>\n",
       "  </tbody>\n",
       "</table>\n",
       "<p>5 rows × 50 columns</p>\n",
       "</div>"
      ],
      "text/plain": [
       "               number-of-cells count bacteria1     count bacteria2  \\\n",
       "[reporter]                                                           \n",
       "[final]                      0               0                   0   \n",
       "[min]                        0               0                   0   \n",
       "[max]                      709               0                 709   \n",
       "[mean]      105.90547263681592               0  106.20398009950249   \n",
       "[steps]                    200             200                 200   \n",
       "\n",
       "             count neutrophils   count macrophages   number-of-cells.1  \\\n",
       "[reporter]                                                               \n",
       "[final]                      0                   0                   0   \n",
       "[min]                        0                   0                   0   \n",
       "[max]                      465                 316                 724   \n",
       "[mean]      127.30845771144278  136.75124378109453  106.24378109452736   \n",
       "[steps]                    200                 200                 200   \n",
       "\n",
       "           count bacteria1.1   count bacteria2.1 count neutrophils.1  \\\n",
       "[reporter]                                                             \n",
       "[final]                    0                   0                   0   \n",
       "[min]                      0                   0                   0   \n",
       "[max]                      0                 724                 462   \n",
       "[mean]                     0  106.54228855721394   121.4726368159204   \n",
       "[steps]                  200                 200                 200   \n",
       "\n",
       "           count macrophages.1  ... number-of-cells.8 count bacteria1.8  \\\n",
       "[reporter]                      ...                                       \n",
       "[final]                      0  ...                 0                 0   \n",
       "[min]                        0  ...                 0                 0   \n",
       "[max]                      299  ...               692                 0   \n",
       "[mean]      127.38308457711443  ...               107                 0   \n",
       "[steps]                    200  ...               200               200   \n",
       "\n",
       "             count bacteria2.8 count neutrophils.8 count macrophages.8  \\\n",
       "[reporter]                                                               \n",
       "[final]                      0                   0                   0   \n",
       "[min]                        0                   0                   0   \n",
       "[max]                      692                 448                 327   \n",
       "[mean]      107.29850746268657  121.49751243781094  137.73134328358208   \n",
       "[steps]                    200                 200                 200   \n",
       "\n",
       "             number-of-cells.9 count bacteria1.9  count bacteria2.9  \\\n",
       "[reporter]                                                            \n",
       "[final]                      0                 0                  0   \n",
       "[min]                        0                 0                  0   \n",
       "[max]                      744                 0                744   \n",
       "[mean]      107.86069651741293                 0  108.1592039800995   \n",
       "[steps]                    200               200                200   \n",
       "\n",
       "           count neutrophils.9 count macrophages.9  \n",
       "[reporter]                                          \n",
       "[final]                      0                   0  \n",
       "[min]                        0                   0  \n",
       "[max]                      464                 295  \n",
       "[mean]      125.09452736318408  124.88059701492537  \n",
       "[steps]                    200                 200  \n",
       "\n",
       "[5 rows x 50 columns]"
      ]
     },
     "execution_count": 3,
     "metadata": {},
     "output_type": "execute_result"
    }
   ],
   "source": [
    "exp1.head()"
   ]
  },
  {
   "cell_type": "code",
   "execution_count": 4,
   "metadata": {},
   "outputs": [],
   "source": [
    "#get information for exp 2 and 3, which have two different species of bacteria. In experiment 3, bacteria1 becomes predatory\n",
    "exp2_3 = pd.read_csv('two_cell_experiments_ver5.csv', header = 16, index_col = 0)\n",
    "exp2 = exp2_3.iloc[:,0:50]\n",
    "exp3 = exp2_3.iloc[:,50:]"
   ]
  },
  {
   "cell_type": "code",
   "execution_count": 5,
   "metadata": {},
   "outputs": [],
   "source": [
    "#convert data into dictionary containing dataframes for each measurement\n",
    "exp2_meta = {}\n",
    "exp2_time = {}\n",
    "for i in range(5):\n",
    "    colName = exp1.columns[i]\n",
    "    #get indices for each run \n",
    "    indices = list(range(i,50,5))\n",
    "    exp2_meta[colName] = exp2.iloc[0:5,indices]\n",
    "    exp2_time[colName] = exp2.iloc[7:,indices].reset_index().drop('[reporter]',axis =1).astype(int)"
   ]
  },
  {
   "cell_type": "code",
   "execution_count": 6,
   "metadata": {},
   "outputs": [],
   "source": [
    "#convert data into dictionary containing dataframes for each measurement\n",
    "exp3_meta = {}\n",
    "exp3_time = {}\n",
    "for i in range(5):\n",
    "    colName = exp1.columns[i]\n",
    "    #get indices for each run \n",
    "    indices = list(range(i,50,5))\n",
    "    exp3_meta[colName] = exp3.iloc[0:5,indices]\n",
    "    exp3_time[colName] = exp3.iloc[7:,indices].reset_index().drop('[reporter]',axis =1).astype(int)"
   ]
  },
  {
   "cell_type": "code",
   "execution_count": 7,
   "metadata": {},
   "outputs": [
    {
     "data": {
      "text/html": [
       "<div>\n",
       "<style scoped>\n",
       "    .dataframe tbody tr th:only-of-type {\n",
       "        vertical-align: middle;\n",
       "    }\n",
       "\n",
       "    .dataframe tbody tr th {\n",
       "        vertical-align: top;\n",
       "    }\n",
       "\n",
       "    .dataframe thead th {\n",
       "        text-align: right;\n",
       "    }\n",
       "</style>\n",
       "<table border=\"1\" class=\"dataframe\">\n",
       "  <thead>\n",
       "    <tr style=\"text-align: right;\">\n",
       "      <th></th>\n",
       "      <th>number-of-cells</th>\n",
       "      <th>number-of-cells.1</th>\n",
       "      <th>number-of-cells.2</th>\n",
       "      <th>number-of-cells.3</th>\n",
       "      <th>number-of-cells.4</th>\n",
       "      <th>number-of-cells.5</th>\n",
       "      <th>number-of-cells.6</th>\n",
       "      <th>number-of-cells.7</th>\n",
       "      <th>number-of-cells.8</th>\n",
       "      <th>number-of-cells.9</th>\n",
       "    </tr>\n",
       "  </thead>\n",
       "  <tbody>\n",
       "    <tr>\n",
       "      <th>0</th>\n",
       "      <td>92</td>\n",
       "      <td>87</td>\n",
       "      <td>91</td>\n",
       "      <td>84</td>\n",
       "      <td>92</td>\n",
       "      <td>86</td>\n",
       "      <td>88</td>\n",
       "      <td>81</td>\n",
       "      <td>90</td>\n",
       "      <td>98</td>\n",
       "    </tr>\n",
       "    <tr>\n",
       "      <th>1</th>\n",
       "      <td>120</td>\n",
       "      <td>119</td>\n",
       "      <td>119</td>\n",
       "      <td>117</td>\n",
       "      <td>118</td>\n",
       "      <td>117</td>\n",
       "      <td>119</td>\n",
       "      <td>119</td>\n",
       "      <td>120</td>\n",
       "      <td>120</td>\n",
       "    </tr>\n",
       "    <tr>\n",
       "      <th>2</th>\n",
       "      <td>182</td>\n",
       "      <td>171</td>\n",
       "      <td>180</td>\n",
       "      <td>161</td>\n",
       "      <td>179</td>\n",
       "      <td>166</td>\n",
       "      <td>172</td>\n",
       "      <td>160</td>\n",
       "      <td>180</td>\n",
       "      <td>194</td>\n",
       "    </tr>\n",
       "    <tr>\n",
       "      <th>3</th>\n",
       "      <td>231</td>\n",
       "      <td>233</td>\n",
       "      <td>232</td>\n",
       "      <td>221</td>\n",
       "      <td>231</td>\n",
       "      <td>226</td>\n",
       "      <td>231</td>\n",
       "      <td>231</td>\n",
       "      <td>233</td>\n",
       "      <td>233</td>\n",
       "    </tr>\n",
       "    <tr>\n",
       "      <th>4</th>\n",
       "      <td>347</td>\n",
       "      <td>325</td>\n",
       "      <td>343</td>\n",
       "      <td>300</td>\n",
       "      <td>338</td>\n",
       "      <td>317</td>\n",
       "      <td>325</td>\n",
       "      <td>305</td>\n",
       "      <td>338</td>\n",
       "      <td>366</td>\n",
       "    </tr>\n",
       "    <tr>\n",
       "      <th>...</th>\n",
       "      <td>...</td>\n",
       "      <td>...</td>\n",
       "      <td>...</td>\n",
       "      <td>...</td>\n",
       "      <td>...</td>\n",
       "      <td>...</td>\n",
       "      <td>...</td>\n",
       "      <td>...</td>\n",
       "      <td>...</td>\n",
       "      <td>...</td>\n",
       "    </tr>\n",
       "    <tr>\n",
       "      <th>195</th>\n",
       "      <td>0</td>\n",
       "      <td>0</td>\n",
       "      <td>0</td>\n",
       "      <td>0</td>\n",
       "      <td>0</td>\n",
       "      <td>0</td>\n",
       "      <td>0</td>\n",
       "      <td>0</td>\n",
       "      <td>0</td>\n",
       "      <td>0</td>\n",
       "    </tr>\n",
       "    <tr>\n",
       "      <th>196</th>\n",
       "      <td>0</td>\n",
       "      <td>0</td>\n",
       "      <td>0</td>\n",
       "      <td>0</td>\n",
       "      <td>0</td>\n",
       "      <td>0</td>\n",
       "      <td>0</td>\n",
       "      <td>0</td>\n",
       "      <td>0</td>\n",
       "      <td>0</td>\n",
       "    </tr>\n",
       "    <tr>\n",
       "      <th>197</th>\n",
       "      <td>0</td>\n",
       "      <td>0</td>\n",
       "      <td>0</td>\n",
       "      <td>0</td>\n",
       "      <td>0</td>\n",
       "      <td>0</td>\n",
       "      <td>0</td>\n",
       "      <td>0</td>\n",
       "      <td>0</td>\n",
       "      <td>0</td>\n",
       "    </tr>\n",
       "    <tr>\n",
       "      <th>198</th>\n",
       "      <td>0</td>\n",
       "      <td>0</td>\n",
       "      <td>0</td>\n",
       "      <td>0</td>\n",
       "      <td>0</td>\n",
       "      <td>0</td>\n",
       "      <td>0</td>\n",
       "      <td>0</td>\n",
       "      <td>0</td>\n",
       "      <td>0</td>\n",
       "    </tr>\n",
       "    <tr>\n",
       "      <th>199</th>\n",
       "      <td>0</td>\n",
       "      <td>0</td>\n",
       "      <td>0</td>\n",
       "      <td>0</td>\n",
       "      <td>0</td>\n",
       "      <td>0</td>\n",
       "      <td>0</td>\n",
       "      <td>0</td>\n",
       "      <td>0</td>\n",
       "      <td>0</td>\n",
       "    </tr>\n",
       "  </tbody>\n",
       "</table>\n",
       "<p>200 rows × 10 columns</p>\n",
       "</div>"
      ],
      "text/plain": [
       "     number-of-cells  number-of-cells.1  number-of-cells.2  number-of-cells.3  \\\n",
       "0                 92                 87                 91                 84   \n",
       "1                120                119                119                117   \n",
       "2                182                171                180                161   \n",
       "3                231                233                232                221   \n",
       "4                347                325                343                300   \n",
       "..               ...                ...                ...                ...   \n",
       "195                0                  0                  0                  0   \n",
       "196                0                  0                  0                  0   \n",
       "197                0                  0                  0                  0   \n",
       "198                0                  0                  0                  0   \n",
       "199                0                  0                  0                  0   \n",
       "\n",
       "     number-of-cells.4  number-of-cells.5  number-of-cells.6  \\\n",
       "0                   92                 86                 88   \n",
       "1                  118                117                119   \n",
       "2                  179                166                172   \n",
       "3                  231                226                231   \n",
       "4                  338                317                325   \n",
       "..                 ...                ...                ...   \n",
       "195                  0                  0                  0   \n",
       "196                  0                  0                  0   \n",
       "197                  0                  0                  0   \n",
       "198                  0                  0                  0   \n",
       "199                  0                  0                  0   \n",
       "\n",
       "     number-of-cells.7  number-of-cells.8  number-of-cells.9  \n",
       "0                   81                 90                 98  \n",
       "1                  119                120                120  \n",
       "2                  160                180                194  \n",
       "3                  231                233                233  \n",
       "4                  305                338                366  \n",
       "..                 ...                ...                ...  \n",
       "195                  0                  0                  0  \n",
       "196                  0                  0                  0  \n",
       "197                  0                  0                  0  \n",
       "198                  0                  0                  0  \n",
       "199                  0                  0                  0  \n",
       "\n",
       "[200 rows x 10 columns]"
      ]
     },
     "execution_count": 7,
     "metadata": {},
     "output_type": "execute_result"
    }
   ],
   "source": [
    "exp1_time['number-of-cells']"
   ]
  },
  {
   "cell_type": "code",
   "execution_count": 8,
   "metadata": {},
   "outputs": [
    {
     "data": {
      "text/plain": [
       "59"
      ]
     },
     "execution_count": 8,
     "metadata": {},
     "output_type": "execute_result"
    }
   ],
   "source": [
    "exp1_time['count bacteria2'].iloc[:,0][exp1_time['count bacteria2'].iloc[:, 0] == 0].index[0]"
   ]
  },
  {
   "cell_type": "code",
   "execution_count": 9,
   "metadata": {},
   "outputs": [
    {
     "data": {
      "image/png": "[encoded data removed]",
      "text/plain": [
       "<Figure size 1728x576 with 2 Axes>"
      ]
     },
     "metadata": {},
     "output_type": "display_data"
    }
   ],
   "source": [
    "sns.set()\n",
    "\n",
    "time = np.linspace(0,200,200)\n",
    "\n",
    "fig, axes = plt.subplots(1, 2, figsize=(24,8))\n",
    "\n",
    "expr_list = [exp1_time, exp3_time]\n",
    "titles = ['One Bacteria Dynamics', 'Predator Bacteria Dynamics']\n",
    "\n",
    "\n",
    "\n",
    "one_bac_sums = []\n",
    "one_bac_t = []\n",
    "one_bac_neu_sums = []\n",
    "one_bac_neu_t = []\n",
    "one_bac_mac_sums = []\n",
    "one_bac_mac_t = []\n",
    "\n",
    "pred_bac_sums = []\n",
    "pred_bac_t = []\n",
    "pred_bac_neu_sums = []\n",
    "pred_bac_neu_t = []\n",
    "pred_bac_mac_sums = []\n",
    "pred_bac_mac_t = []\n",
    "\n",
    "for i in range(len(expr_list)):\n",
    "    \n",
    "    ax = axes[i]\n",
    "    \n",
    "    experiment = expr_list[i]\n",
    "    #get means for time data and plot\n",
    "    numBact = experiment['number-of-cells'].mean(axis = 1)\n",
    "    bact1 = experiment['count bacteria1'].mean(axis = 1)\n",
    "    bact2 = experiment['count bacteria2'].mean(axis = 1)\n",
    "    neutrophil = experiment['count neutrophils'].mean(axis = 1)\n",
    "    macrophage = experiment['count macrophages'].mean(axis = 1)\n",
    "    \n",
    "    if i == 0:\n",
    "        for k in range(10):\n",
    "            one_bac_sums.append(simps(experiment['count bacteria2'].iloc[:, k], dx=1))\n",
    "            one_bac_neu_sums.append(simps(experiment['count neutrophils'].iloc[:, k], dx=1))\n",
    "            one_bac_mac_sums.append(simps(experiment['count macrophages'].iloc[:, k], dx=1))\n",
    "            \n",
    "            one_bac_t.append(experiment['count bacteria2'].iloc[:,k][experiment['count bacteria2'].iloc[:, k] == 0].index[0])\n",
    "            one_bac_neu_t.append(experiment['count neutrophils'].iloc[50:,k][experiment['count neutrophils'].iloc[50:, k] == 0].index[0])\n",
    "            one_bac_mac_t.append(experiment['count macrophages'].iloc[50:,k][experiment['count macrophages'].iloc[50:, k] == 0].index[0])\n",
    "            \n",
    "            \n",
    "            \n",
    "    if i == 1:\n",
    "        for k in range(10):\n",
    "            pred_bac_sums.append(simps(experiment['count bacteria2'].iloc[:, k], dx=1))\n",
    "            pred_bac_neu_sums.append(simps(experiment['count neutrophils'].iloc[:, k], dx=1))\n",
    "            pred_bac_mac_sums.append(simps(experiment['count macrophages'].iloc[:, k], dx=1))\n",
    "            \n",
    "            pred_bac_t.append(experiment['count bacteria2'].iloc[:,k][experiment['count bacteria2'].iloc[:, k] == 0].index[0])\n",
    "            pred_bac_neu_t.append(experiment['count neutrophils'].iloc[50:,k][experiment['count neutrophils'].iloc[50:, k] == 0].index[0])\n",
    "            pred_bac_mac_t.append(experiment['count macrophages'].iloc[50:,k][experiment['count macrophages'].iloc[50:, k] == 0].index[0])\n",
    "\n",
    "\n",
    "    \n",
    "    if i == 0:\n",
    "        ax.plot(time, bact2, label = 'Bacteria', color='#F5793A')\n",
    "    if i == 1:\n",
    "        ax.plot(time, bact1, label = 'Predator Bacteria', color='#0F2080')\n",
    "        ax.plot(time, bact2, label = 'Prey Bacteria', color='#F5793A')\n",
    "        \n",
    "    ax.plot(time, neutrophil, label = 'Neutrophils', color='#A95AA1')\n",
    "    ax.plot(time, macrophage, label = 'Macrophages', color='#85C0F9')\n",
    "    \n",
    "    \n",
    "    \n",
    "    ax.set_xlim((0, 200))\n",
    "    ax.set_ylim((0, 1500))\n",
    "    \n",
    "    ax.set_ylabel('Number of Cells', fontsize=20)\n",
    "    ax.set_xlabel('Time (hours)', fontsize=20)\n",
    "    \n",
    "    \n",
    "    ax.tick_params(axis='both', which='major', labelsize=16)\n",
    "    ax.tick_params(axis='both', which='minor', labelsize=14)\n",
    "    \n",
    "    ax.set_title(titles[i], fontsize=24)\n",
    "    \n",
    "    ax.legend(fontsize=18)"
   ]
  },
  {
   "cell_type": "markdown",
   "metadata": {},
   "source": [
    "Possible Other Plots:\n",
    "1. Maximum macrophage count required for elimination of bacteria\n",
    "2. Time until elimination of bacteria in each case\n",
    "3. Maximum total number of bacteria"
   ]
  },
  {
   "cell_type": "code",
   "execution_count": 10,
   "metadata": {},
   "outputs": [
    {
     "data": {
      "text/plain": [
       "(21669.641666666666, 525.7169589263576)"
      ]
     },
     "execution_count": 10,
     "metadata": {},
     "output_type": "execute_result"
    }
   ],
   "source": [
    "np.mean(one_bac_sums), np.std(one_bac_sums)"
   ]
  },
  {
   "cell_type": "code",
   "execution_count": 11,
   "metadata": {},
   "outputs": [
    {
     "data": {
      "text/plain": [
       "(2323.4999999999995, 583.8371847812823)"
      ]
     },
     "execution_count": 11,
     "metadata": {},
     "output_type": "execute_result"
    }
   ],
   "source": [
    "np.mean(pred_bac_sums), np.std(pred_bac_sums)"
   ]
  },
  {
   "cell_type": "code",
   "execution_count": 12,
   "metadata": {},
   "outputs": [
    {
     "data": {
      "text/plain": [
       "(57.2, 1.32664991614216)"
      ]
     },
     "execution_count": 12,
     "metadata": {},
     "output_type": "execute_result"
    }
   ],
   "source": [
    "np.mean(one_bac_t), np.std(one_bac_t)"
   ]
  },
  {
   "cell_type": "code",
   "execution_count": 13,
   "metadata": {},
   "outputs": [
    {
     "data": {
      "text/plain": [
       "(34.8, 5.418486873657627)"
      ]
     },
     "execution_count": 13,
     "metadata": {},
     "output_type": "execute_result"
    }
   ],
   "source": [
    "np.mean(pred_bac_t), np.std(pred_bac_t)"
   ]
  },
  {
   "cell_type": "code",
   "execution_count": 14,
   "metadata": {},
   "outputs": [
    {
     "data": {
      "text/plain": [
       "(24591.416666666664, 592.1393417093648)"
      ]
     },
     "execution_count": 14,
     "metadata": {},
     "output_type": "execute_result"
    }
   ],
   "source": [
    "np.mean(one_bac_neu_sums), np.std(one_bac_neu_sums)"
   ]
  },
  {
   "cell_type": "code",
   "execution_count": 15,
   "metadata": {},
   "outputs": [
    {
     "data": {
      "text/plain": [
       "(17653.216666666664, 1532.7756391592345)"
      ]
     },
     "execution_count": 15,
     "metadata": {},
     "output_type": "execute_result"
    }
   ],
   "source": [
    "np.mean(pred_bac_neu_sums), np.std(pred_bac_neu_sums)"
   ]
  },
  {
   "cell_type": "code",
   "execution_count": 16,
   "metadata": {},
   "outputs": [
    {
     "data": {
      "text/plain": [
       "(109.6, 1.8547236990991407)"
      ]
     },
     "execution_count": 16,
     "metadata": {},
     "output_type": "execute_result"
    }
   ],
   "source": [
    "np.mean(one_bac_neu_t), np.std(one_bac_neu_t)"
   ]
  },
  {
   "cell_type": "code",
   "execution_count": 17,
   "metadata": {},
   "outputs": [
    {
     "data": {
      "text/plain": [
       "(87.8, 4.64327470649756)"
      ]
     },
     "execution_count": 17,
     "metadata": {},
     "output_type": "execute_result"
    }
   ],
   "source": [
    "np.mean(pred_bac_neu_t), np.std(pred_bac_neu_t)"
   ]
  },
  {
   "cell_type": "code",
   "execution_count": 18,
   "metadata": {},
   "outputs": [
    {
     "data": {
      "text/plain": [
       "(26115.3, 1089.5486267257643)"
      ]
     },
     "execution_count": 18,
     "metadata": {},
     "output_type": "execute_result"
    }
   ],
   "source": [
    "np.mean(one_bac_mac_sums), np.std(one_bac_mac_sums)"
   ]
  },
  {
   "cell_type": "code",
   "execution_count": 24,
   "metadata": {},
   "outputs": [
    {
     "data": {
      "text/plain": [
       "(22725.3, 1605.6357650476014)"
      ]
     },
     "execution_count": 24,
     "metadata": {},
     "output_type": "execute_result"
    }
   ],
   "source": [
    "np.mean(pred_bac_mac_sums), np.std(pred_bac_mac_sums)"
   ]
  },
  {
   "cell_type": "code",
   "execution_count": 19,
   "metadata": {},
   "outputs": [
    {
     "data": {
      "text/plain": [
       "(159.4, 2.6907248094147422)"
      ]
     },
     "execution_count": 19,
     "metadata": {},
     "output_type": "execute_result"
    }
   ],
   "source": [
    "np.mean(one_bac_mac_t), np.std(one_bac_mac_t)"
   ]
  },
  {
   "cell_type": "code",
   "execution_count": 20,
   "metadata": {},
   "outputs": [
    {
     "data": {
      "text/plain": [
       "(154.0, 2.6832815729997477)"
      ]
     },
     "execution_count": 20,
     "metadata": {},
     "output_type": "execute_result"
    }
   ],
   "source": [
    "np.mean(pred_bac_mac_t), np.std(pred_bac_mac_t)"
   ]
  },
  {
   "cell_type": "markdown",
   "metadata": {},
   "source": [
    "| One Bacteria System        | Mean          | Std. Dev.  | p-value (two-sample t-test) |\n",
    "| ------------- |:-------------:| -----:|\n",
    "| Prey Bacteria |21669.6 | 525.7 |\n",
    "| Macrophages     | centered      |    |\n",
    "| Neutrophils | are neat      |     |"
   ]
  },
  {
   "cell_type": "code",
   "execution_count": null,
   "metadata": {},
   "outputs": [],
   "source": []
  },
  {
   "cell_type": "code",
   "execution_count": null,
   "metadata": {},
   "outputs": [],
   "source": []
  },
  {
   "cell_type": "code",
   "execution_count": 21,
   "metadata": {},
   "outputs": [
    {
     "data": {
      "text/plain": [
       "Ttest_indResult(statistic=73.8732348476013, pvalue=8.331668900362237e-24)"
      ]
     },
     "execution_count": 21,
     "metadata": {},
     "output_type": "execute_result"
    }
   ],
   "source": [
    "ttest_ind(one_bac_sums, pred_bac_sums)"
   ]
  },
  {
   "cell_type": "code",
   "execution_count": 22,
   "metadata": {},
   "outputs": [
    {
     "data": {
      "text/plain": [
       "Ttest_indResult(statistic=12.66729141263705, pvalue=2.1015247372504045e-10)"
      ]
     },
     "execution_count": 22,
     "metadata": {},
     "output_type": "execute_result"
    }
   ],
   "source": [
    "ttest_ind(one_bac_neu_sums, pred_bac_neu_sums)"
   ]
  },
  {
   "cell_type": "code",
   "execution_count": 23,
   "metadata": {},
   "outputs": [
    {
     "data": {
      "text/plain": [
       "Ttest_indResult(statistic=4.769533253210148, pvalue=0.00015326384413494098)"
      ]
     },
     "execution_count": 23,
     "metadata": {},
     "output_type": "execute_result"
    }
   ],
   "source": [
    "ttest_ind(one_bac_mac_sums, pred_bac_mac_sums)"
   ]
  },
  {
   "cell_type": "code",
   "execution_count": 24,
   "metadata": {},
   "outputs": [
    {
     "data": {
      "text/plain": [
       "Ttest_indResult(statistic=12.046183621618857, pvalue=4.743770041579348e-10)"
      ]
     },
     "execution_count": 24,
     "metadata": {},
     "output_type": "execute_result"
    }
   ],
   "source": [
    "ttest_ind(one_bac_t, pred_bac_t)"
   ]
  },
  {
   "cell_type": "code",
   "execution_count": 25,
   "metadata": {},
   "outputs": [
    {
     "data": {
      "text/plain": [
       "Ttest_indResult(statistic=13.079999999999998, pvalue=1.245228209152771e-10)"
      ]
     },
     "execution_count": 25,
     "metadata": {},
     "output_type": "execute_result"
    }
   ],
   "source": [
    "ttest_ind(one_bac_neu_t, pred_bac_neu_t)"
   ]
  },
  {
   "cell_type": "code",
   "execution_count": 26,
   "metadata": {},
   "outputs": [
    {
     "data": {
      "text/plain": [
       "Ttest_indResult(statistic=4.263157894736847, pvalue=0.00046780242381734956)"
      ]
     },
     "execution_count": 26,
     "metadata": {},
     "output_type": "execute_result"
    }
   ],
   "source": [
    "ttest_ind(one_bac_mac_t, pred_bac_mac_t)"
   ]
  },
  {
   "cell_type": "code",
   "execution_count": null,
   "metadata": {},
   "outputs": [],
   "source": []
  },
  {
   "cell_type": "code",
   "execution_count": 27,
   "metadata": {},
   "outputs": [
    {
     "data": {
      "image/png": "[encoded data removed]",
      "text/plain": [
       "<Figure size 1728x576 with 2 Axes>"
      ]
     },
     "metadata": {},
     "output_type": "display_data"
    }
   ],
   "source": [
    "fig, axes = plt.subplots(1, 2, figsize=(24,8))\n",
    "\n",
    "df = pd.DataFrame(columns=[\"Cell Type\", \"Total Cell Count\", \"System\"])\n",
    "df = df.append({\"Cell Type\": \"Prey Bacteria\",\n",
    "                \"Total Cell Count\": one_bac_sums,\n",
    "                \"Time in Wound\": one_bac_t,\n",
    "                \"System\": \"One Bacteria System\"},\n",
    "                ignore_index=True)\n",
    "df = df.append({\"Cell Type\": \"Neutrophils\",\n",
    "                \"Total Cell Count\": one_bac_neu_sums,\n",
    "                \"Time in Wound\": one_bac_neu_t,\n",
    "                \"System\": \"One Bacteria System\" },\n",
    "                ignore_index=True)\n",
    "df = df.append({\"Cell Type\": \"Macrophages\",\n",
    "                \"Total Cell Count\": one_bac_mac_sums,\n",
    "                \"Time in Wound\": one_bac_mac_t,\n",
    "                \"System\": \"One Bacteria System\" },\n",
    "                ignore_index=True)\n",
    "df = df.append({\"Cell Type\": \"Prey Bacteria\",\n",
    "                \"Total Cell Count\": pred_bac_sums,\n",
    "                \"Time in Wound\": pred_bac_t,\n",
    "                \"System\": \"Predator Bacteria System\"},\n",
    "                ignore_index=True)\n",
    "df = df.append({\"Cell Type\": \"Neutrophils\" ,\n",
    "                \"Total Cell Count\": pred_bac_neu_sums,\n",
    "                \"Time in Wound\": pred_bac_neu_t,\n",
    "                \"System\": \"Predator Bacteria System\" },\n",
    "                ignore_index=True)\n",
    "df = df.append({\"Cell Type\": \"Macrophages\",\n",
    "                \"Total Cell Count\": pred_bac_mac_sums,\n",
    "                \"Time in Wound\": pred_bac_mac_t,\n",
    "                \"System\": \"Predator Bacteria System\"},\n",
    "                ignore_index=True)\n",
    "df = df.explode(\"Total Cell Count\", ignore_index=True)\n",
    "df = df.explode(\"Time in Wound\", ignore_index=True)\n",
    "\n",
    "ax = axes[0]\n",
    "sns.boxplot(x=\"Cell Type\", y=\"Total Cell Count\", data=df, hue=\"System\", orient='v', ax=ax)\n",
    "\n",
    "\n",
    "ax.set_ylabel(\"Total Number of Cells\", fontsize=20)\n",
    "ax.set_xlabel(\"Cell Type\", fontsize=20)\n",
    "ax.tick_params(axis='both', which='major', labelsize=16)\n",
    "ax.tick_params(axis='both', which='minor', labelsize=14)\n",
    "\n",
    "ax.set_title(\"Cell Count Changes with Predator Bacteria\", fontsize=22)\n",
    "\n",
    "ax.legend(fontsize=20)\n",
    "\n",
    "ax = axes[1]\n",
    "sns.boxplot(x=\"Cell Type\", y=\"Time in Wound\", data=df, hue=\"System\", orient='v', ax=ax)\n",
    "\n",
    "\n",
    "ax.set_ylabel(\"Time Spent in Wound (hr)\", fontsize=20)\n",
    "ax.set_xlabel(\"Cell Type\", fontsize=20)\n",
    "ax.tick_params(axis='both', which='major', labelsize=16)\n",
    "ax.tick_params(axis='both', which='minor', labelsize=14)\n",
    "\n",
    "ax.set_title(\"Time Spent in Wound Changes with Predator Bacteria\", fontsize=22)\n",
    "\n",
    "ax.legend(fontsize=20)\n",
    "\n",
    "plt.tight_layout()\n"
   ]
  },
  {
   "cell_type": "code",
   "execution_count": 28,
   "metadata": {},
   "outputs": [
    {
     "data": {
      "text/html": [
       "<div>\n",
       "<style scoped>\n",
       "    .dataframe tbody tr th:only-of-type {\n",
       "        vertical-align: middle;\n",
       "    }\n",
       "\n",
       "    .dataframe tbody tr th {\n",
       "        vertical-align: top;\n",
       "    }\n",
       "\n",
       "    .dataframe thead th {\n",
       "        text-align: right;\n",
       "    }\n",
       "</style>\n",
       "<table border=\"1\" class=\"dataframe\">\n",
       "  <thead>\n",
       "    <tr style=\"text-align: right;\">\n",
       "      <th></th>\n",
       "      <th>Cell Type</th>\n",
       "      <th>Total Cell Count</th>\n",
       "      <th>System</th>\n",
       "      <th>Time in Wound</th>\n",
       "    </tr>\n",
       "  </thead>\n",
       "  <tbody>\n",
       "    <tr>\n",
       "      <th>0</th>\n",
       "      <td>Prey Bacteria</td>\n",
       "      <td>21243.3</td>\n",
       "      <td>One Bacteria System</td>\n",
       "      <td>59</td>\n",
       "    </tr>\n",
       "    <tr>\n",
       "      <th>1</th>\n",
       "      <td>Prey Bacteria</td>\n",
       "      <td>21243.3</td>\n",
       "      <td>One Bacteria System</td>\n",
       "      <td>56</td>\n",
       "    </tr>\n",
       "    <tr>\n",
       "      <th>2</th>\n",
       "      <td>Prey Bacteria</td>\n",
       "      <td>21243.3</td>\n",
       "      <td>One Bacteria System</td>\n",
       "      <td>57</td>\n",
       "    </tr>\n",
       "    <tr>\n",
       "      <th>3</th>\n",
       "      <td>Prey Bacteria</td>\n",
       "      <td>21243.3</td>\n",
       "      <td>One Bacteria System</td>\n",
       "      <td>57</td>\n",
       "    </tr>\n",
       "    <tr>\n",
       "      <th>4</th>\n",
       "      <td>Prey Bacteria</td>\n",
       "      <td>21243.3</td>\n",
       "      <td>One Bacteria System</td>\n",
       "      <td>56</td>\n",
       "    </tr>\n",
       "    <tr>\n",
       "      <th>...</th>\n",
       "      <td>...</td>\n",
       "      <td>...</td>\n",
       "      <td>...</td>\n",
       "      <td>...</td>\n",
       "    </tr>\n",
       "    <tr>\n",
       "      <th>595</th>\n",
       "      <td>Macrophages</td>\n",
       "      <td>26164</td>\n",
       "      <td>Predator Bacteria System</td>\n",
       "      <td>152</td>\n",
       "    </tr>\n",
       "    <tr>\n",
       "      <th>596</th>\n",
       "      <td>Macrophages</td>\n",
       "      <td>26164</td>\n",
       "      <td>Predator Bacteria System</td>\n",
       "      <td>153</td>\n",
       "    </tr>\n",
       "    <tr>\n",
       "      <th>597</th>\n",
       "      <td>Macrophages</td>\n",
       "      <td>26164</td>\n",
       "      <td>Predator Bacteria System</td>\n",
       "      <td>152</td>\n",
       "    </tr>\n",
       "    <tr>\n",
       "      <th>598</th>\n",
       "      <td>Macrophages</td>\n",
       "      <td>26164</td>\n",
       "      <td>Predator Bacteria System</td>\n",
       "      <td>153</td>\n",
       "    </tr>\n",
       "    <tr>\n",
       "      <th>599</th>\n",
       "      <td>Macrophages</td>\n",
       "      <td>26164</td>\n",
       "      <td>Predator Bacteria System</td>\n",
       "      <td>158</td>\n",
       "    </tr>\n",
       "  </tbody>\n",
       "</table>\n",
       "<p>600 rows × 4 columns</p>\n",
       "</div>"
      ],
      "text/plain": [
       "         Cell Type Total Cell Count                    System Time in Wound\n",
       "0    Prey Bacteria          21243.3       One Bacteria System            59\n",
       "1    Prey Bacteria          21243.3       One Bacteria System            56\n",
       "2    Prey Bacteria          21243.3       One Bacteria System            57\n",
       "3    Prey Bacteria          21243.3       One Bacteria System            57\n",
       "4    Prey Bacteria          21243.3       One Bacteria System            56\n",
       "..             ...              ...                       ...           ...\n",
       "595    Macrophages            26164  Predator Bacteria System           152\n",
       "596    Macrophages            26164  Predator Bacteria System           153\n",
       "597    Macrophages            26164  Predator Bacteria System           152\n",
       "598    Macrophages            26164  Predator Bacteria System           153\n",
       "599    Macrophages            26164  Predator Bacteria System           158\n",
       "\n",
       "[600 rows x 4 columns]"
      ]
     },
     "execution_count": 28,
     "metadata": {},
     "output_type": "execute_result"
    }
   ],
   "source": [
    "df"
   ]
  },
  {
   "cell_type": "code",
   "execution_count": null,
   "metadata": {},
   "outputs": [],
   "source": []
  }
 ],
 "metadata": {
  "kernelspec": {
   "display_name": "Python 3",
   "language": "python",
   "name": "python3"
  },
  "language_info": {
   "codemirror_mode": {
    "name": "ipython",
    "version": 3
   },
   "file_extension": ".py",
   "mimetype": "text/x-python",
   "name": "python",
   "nbconvert_exporter": "python",
   "pygments_lexer": "ipython3",
   "version": "3.7.9"
  }
 },
 "nbformat": 4,
 "nbformat_minor": 4
}
